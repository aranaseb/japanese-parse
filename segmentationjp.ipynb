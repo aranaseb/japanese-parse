{
 "cells": [
  {
   "cell_type": "markdown",
   "id": "d7529cf5-c8e1-4823-b971-3b0af1836cfd",
   "metadata": {},
   "source": [
    "# Learn Japanese with Sentence Segmentation"
   ]
  },
  {
   "cell_type": "code",
   "execution_count": 1,
   "id": "7470dbc6-e056-4dcd-8d1d-4987e19ca43e",
   "metadata": {},
   "outputs": [],
   "source": [
    "import numpy as np\n",
    "import pandas as pd\n",
    "import collections\n",
    "import json\n",
    "\n",
    "import neologdn  # japanese text normalization"
   ]
  },
  {
   "cell_type": "code",
   "execution_count": 2,
   "id": "7f968b37-5307-4b77-a37c-2f0d1804d5c3",
   "metadata": {},
   "outputs": [],
   "source": [
    "df = pd.read_parquet(\"hf://datasets/if001/elementray_m/data/train-00000-of-00001.parquet\")"
   ]
  },
  {
   "cell_type": "markdown",
   "id": "5043c9ba-57ab-4ef3-b3e8-4b96c4207293",
   "metadata": {},
   "source": [
    "### Segmentation Function: Based on Hiragana boundaries"
   ]
  },
  {
   "cell_type": "code",
   "execution_count": 4,
   "id": "ce02bee7-f1a5-420a-93b8-24f94fa1b8eb",
   "metadata": {},
   "outputs": [],
   "source": [
    "def is_hiragana(c) -> bool:\n",
    "    return u'\\u3040' <= c <= u'\\u309F'\n",
    "\n",
    "def is_katakana(c) -> bool:\n",
    "    return u'\\u30A0' <= c <= u'\\u30FF'\n",
    "\n",
    "def segmentation(sentence):\n",
    "    backwards = sentence[::-1]\n",
    "\n",
    "    punctuation = ('、','。')\n",
    "    words = collections.deque()\n",
    "    inflections = collections.deque()\n",
    "\n",
    "    i = 0\n",
    "    while i < len(backwards):\n",
    "        inflection = \"\"\n",
    "        while i < len(backwards) and is_hiragana(backwards[i]):\n",
    "            inflection = backwards[i] + inflection  # populate inflection with hiragana\n",
    "            i += 1\n",
    "        inflections.insert(0,inflection)\n",
    "\n",
    "        word = \"\"\n",
    "        while i < len(backwards) and not is_hiragana(backwards[i]):\n",
    "            if (backwards[i] in punctuation):\n",
    "                i += 1\n",
    "                continue\n",
    "                \n",
    "            word = backwards[i] + word  # populate word with non-hiragana\n",
    "            i += 1\n",
    "        words.insert(0,word)\n",
    "\n",
    "    #parts_df = pd.DataFrame(list(zip(words, inflections)), columns=['Word', 'Inflection'], index=range(1,len(words) + 1))\n",
    "    parts_list = list(zip(words,inflections))\n",
    "    return parts_list"
   ]
  },
  {
   "cell_type": "markdown",
   "id": "1ba25cfc-1964-4c03-94be-60dea69abfe9",
   "metadata": {},
   "source": [
    "### JMdict Japanese to English Translations\n",
    "<a href=https://github.com/scriptin/jmdict-simplified>JSON data source</a>"
   ]
  },
  {
   "cell_type": "code",
   "execution_count": 6,
   "id": "a12df4a4-6d3f-4bd1-87b5-56921284cc6d",
   "metadata": {},
   "outputs": [
    {
     "name": "stdout",
     "output_type": "stream",
     "text": [
      "Total entries: 213165\n"
     ]
    }
   ],
   "source": [
    "with open(\"jmdict-eng-3.6.1.json\", \"r\", encoding=\"utf-8\") as f:\n",
    "    jmdict = json.load(f)\n",
    "\n",
    "print(\"Total entries:\", len(jmdict[\"words\"]))"
   ]
  },
  {
   "cell_type": "code",
   "execution_count": 7,
   "id": "7e743dc5-c6e9-4449-a3cf-e25cc8c77122",
   "metadata": {},
   "outputs": [],
   "source": [
    "def lookup(word, data, threshold=0.7):\n",
    "    results = []\n",
    "\n",
    "    for entry in data.get(\"words\", []):\n",
    "        kanji_list = [k.get(\"text\") for k in entry.get(\"kanji\", []) if \"text\" in k]\n",
    "        kana_list = [k.get(\"text\") for k in entry.get(\"kana\", []) if \"text\" in k]\n",
    "        all_words = kanji_list + kana_list\n",
    "\n",
    "        if word in all_words:\n",
    "            glosses = []\n",
    "            for sense in entry.get(\"sense\", []):\n",
    "                for gloss in sense.get(\"gloss\", []):\n",
    "                    if gloss.get(\"lang\") == \"eng\":\n",
    "                        glosses.append(gloss.get(\"text\"))\n",
    "            results.append({\n",
    "                \"kanji\": kanji_list,\n",
    "                \"kana\": kana_list,\n",
    "                \"glosses\": glosses\n",
    "            })\n",
    "\n",
    "    return results"
   ]
  },
  {
   "cell_type": "markdown",
   "id": "64a327be-618b-44a7-a2af-6d6f89542948",
   "metadata": {},
   "source": [
    "## Run Model"
   ]
  },
  {
   "cell_type": "markdown",
   "id": "45139f32-05b9-4aca-b5ea-553202714467",
   "metadata": {},
   "source": [
    "### Take Sample and Normalize Using neologdn\n",
    "<a href=https://github.com/ikegami-yukino/neologdn/blob/master/README.md>Neologdn Documentation</a>"
   ]
  },
  {
   "cell_type": "code",
   "execution_count": 21,
   "id": "e4cf81f1-a725-44dd-b420-ef363b19bcaa",
   "metadata": {},
   "outputs": [
    {
     "data": {
      "text/plain": [
       "'彼女は料理の準備をしている。'"
      ]
     },
     "execution_count": 21,
     "metadata": {},
     "output_type": "execute_result"
    }
   ],
   "source": [
    "sample = df.sample().values[0][0]\n",
    "neologdn.normalize(sample)"
   ]
  },
  {
   "cell_type": "markdown",
   "id": "bc1ec966-f079-4a28-b453-995838201a5a",
   "metadata": {},
   "source": [
    "### Segment"
   ]
  },
  {
   "cell_type": "code",
   "execution_count": 22,
   "id": "1b6d5000-c914-46f3-89c7-71f0e7149b6f",
   "metadata": {},
   "outputs": [
    {
     "name": "stdout",
     "output_type": "stream",
     "text": [
      "[('彼女', 'は'), ('料理', 'の'), ('準備', 'をしている')]\n"
     ]
    }
   ],
   "source": [
    "segments = segmentation(sample)[:-1]\n",
    "print(segments)"
   ]
  },
  {
   "cell_type": "markdown",
   "id": "257d0e19-8f61-4cd8-8436-740f6ce7fae6",
   "metadata": {},
   "source": [
    "### Run Kanji Word Translations"
   ]
  },
  {
   "cell_type": "code",
   "execution_count": 37,
   "id": "f237b8b8-44ab-4797-8b6c-d6f99b3d49fe",
   "metadata": {},
   "outputs": [
    {
     "name": "stdout",
     "output_type": "stream",
     "text": [
      "==================================================\n",
      "Sentence: 彼女は料理の準備をしている。\n",
      "==================================================\n",
      "\n",
      "==================================================\n",
      "Segment: 彼女 | は\n",
      "Kanji: 彼女 (かのじょ)\n",
      "Meanings:she | her | girlfriend | \n",
      "==================================================\n",
      "\n",
      "==================================================\n",
      "Segment: 料理 | の\n",
      "Kanji: 料理 (りょうり)\n",
      "Meanings:cooking | cookery | cuisine | food | dish | dealing with (skillfully) | handling (well) | managing | \n",
      "==================================================\n",
      "\n",
      "==================================================\n",
      "Segment: 準備 | をしている\n",
      "Kanji: 準備 (じゅんび)\n",
      "Meanings:preparation | arrangements | getting ready | provision | setup | reserving | \n",
      "==================================================\n"
     ]
    }
   ],
   "source": [
    "print(\"=\"*50)\n",
    "print(f\"Sentence: {sample}\")\n",
    "print(\"=\"*50)\n",
    "\n",
    "for word,inflection in segments:\n",
    "    if not word or is_katakana(word[0]):\n",
    "        continue\n",
    "    \n",
    "    entries = lookup(word,jmdict)\n",
    "    # hiragana may be more than just inflection\n",
    "    i = 0\n",
    "    while (entries == [] and i < len(inflection)):\n",
    "        word = word + inflection[i]\n",
    "        entries = lookup(word,jmdict)\n",
    "        i += 1\n",
    "    inflection = inflection[i:]\n",
    "\n",
    "    print()\n",
    "    print(\"=\"*50)\n",
    "    print(f\"Segment: {word} | {inflection}\")\n",
    "    \n",
    "    for e in entries:\n",
    "        print(f\"Kanji: {e['kanji'][0]} ({e['kana'][0]})\")\n",
    "        print(\"Meanings:\", end=\"\")\n",
    "        for gloss in e[\"glosses\"]:\n",
    "            print(gloss,end=\" | \")\n",
    "        print()\n",
    "    print(\"=\"*50)"
   ]
  }
 ],
 "metadata": {
  "kernelspec": {
   "display_name": "Python 3 (ipykernel)",
   "language": "python",
   "name": "python3"
  },
  "language_info": {
   "codemirror_mode": {
    "name": "ipython",
    "version": 3
   },
   "file_extension": ".py",
   "mimetype": "text/x-python",
   "name": "python",
   "nbconvert_exporter": "python",
   "pygments_lexer": "ipython3",
   "version": "3.11.11"
  }
 },
 "nbformat": 4,
 "nbformat_minor": 5
}
